{
 "cells": [
  {
   "cell_type": "code",
   "execution_count": 22,
   "id": "lasting-cigarette",
   "metadata": {},
   "outputs": [],
   "source": [
    "import os\n",
    "import pandas as pd\n",
    "import numpy as np\n",
    "import json\n",
    "import gensim\n",
    "import re\n",
    "import nltk\n",
    "\n",
    "\n",
    "from gensim.utils import simple_preprocess\n",
    "from gensim.parsing.preprocessing import STOPWORDS\n",
    "from gensim import corpora, models\n",
    "\n",
    "from nltk.stem import WordNetLemmatizer"
   ]
  },
  {
   "cell_type": "code",
   "execution_count": 23,
   "id": "speaking-shadow",
   "metadata": {},
   "outputs": [
    {
     "data": {
      "text/html": [
       "<div>\n",
       "<style scoped>\n",
       "    .dataframe tbody tr th:only-of-type {\n",
       "        vertical-align: middle;\n",
       "    }\n",
       "\n",
       "    .dataframe tbody tr th {\n",
       "        vertical-align: top;\n",
       "    }\n",
       "\n",
       "    .dataframe thead th {\n",
       "        text-align: right;\n",
       "    }\n",
       "</style>\n",
       "<table border=\"1\" class=\"dataframe\">\n",
       "  <thead>\n",
       "    <tr style=\"text-align: right;\">\n",
       "      <th></th>\n",
       "      <th>source</th>\n",
       "      <th>author</th>\n",
       "      <th>title</th>\n",
       "      <th>description</th>\n",
       "      <th>url</th>\n",
       "      <th>urlToImage</th>\n",
       "      <th>publishedAt</th>\n",
       "      <th>content</th>\n",
       "    </tr>\n",
       "  </thead>\n",
       "  <tbody>\n",
       "    <tr>\n",
       "      <th>0</th>\n",
       "      <td>{'id': 'bbc-news', 'name': 'BBC News'}</td>\n",
       "      <td>https://www.facebook.com/bbcnews</td>\n",
       "      <td>Oxford-AstraZeneca: Denmark suspends vaccine '...</td>\n",
       "      <td>The decision follows a death and reports of bl...</td>\n",
       "      <td>https://www.bbc.co.uk/news/world-europe-56357760</td>\n",
       "      <td>https://ichef.bbci.co.uk/news/1024/branded_new...</td>\n",
       "      <td>2021-03-11T11:32:43Z</td>\n",
       "      <td>image captionDenmark's health authority says t...</td>\n",
       "    </tr>\n",
       "    <tr>\n",
       "      <th>1</th>\n",
       "      <td>{'id': 'bbc-news', 'name': 'BBC News'}</td>\n",
       "      <td>https://www.facebook.com/bbcnews</td>\n",
       "      <td>The Hebrides' wild swimming 'real-life' mermaid</td>\n",
       "      <td>Kate Macleod can be found swimming in seas and...</td>\n",
       "      <td>https://www.bbc.co.uk/news/uk-scotland-highlan...</td>\n",
       "      <td>https://ichef.bbci.co.uk/news/1024/branded_new...</td>\n",
       "      <td>2021-03-11T11:46:30Z</td>\n",
       "      <td>A wild swimmer has been exploring the Western ...</td>\n",
       "    </tr>\n",
       "  </tbody>\n",
       "</table>\n",
       "</div>"
      ],
      "text/plain": [
       "                                   source                            author  \\\n",
       "0  {'id': 'bbc-news', 'name': 'BBC News'}  https://www.facebook.com/bbcnews   \n",
       "1  {'id': 'bbc-news', 'name': 'BBC News'}  https://www.facebook.com/bbcnews   \n",
       "\n",
       "                                               title  \\\n",
       "0  Oxford-AstraZeneca: Denmark suspends vaccine '...   \n",
       "1    The Hebrides' wild swimming 'real-life' mermaid   \n",
       "\n",
       "                                         description  \\\n",
       "0  The decision follows a death and reports of bl...   \n",
       "1  Kate Macleod can be found swimming in seas and...   \n",
       "\n",
       "                                                 url  \\\n",
       "0   https://www.bbc.co.uk/news/world-europe-56357760   \n",
       "1  https://www.bbc.co.uk/news/uk-scotland-highlan...   \n",
       "\n",
       "                                          urlToImage           publishedAt  \\\n",
       "0  https://ichef.bbci.co.uk/news/1024/branded_new...  2021-03-11T11:32:43Z   \n",
       "1  https://ichef.bbci.co.uk/news/1024/branded_new...  2021-03-11T11:46:30Z   \n",
       "\n",
       "                                             content  \n",
       "0  image captionDenmark's health authority says t...  \n",
       "1  A wild swimmer has been exploring the Western ...  "
      ]
     },
     "execution_count": 23,
     "metadata": {},
     "output_type": "execute_result"
    }
   ],
   "source": [
    "json_file= open('samp.json')\n",
    "json_data=json.load(json_file)\n",
    "documents= pd.DataFrame(json_data)\n",
    "\n",
    "documents.head()"
   ]
  },
  {
   "cell_type": "code",
   "execution_count": null,
   "id": "instant-amount",
   "metadata": {},
   "outputs": [],
   "source": []
  },
  {
   "cell_type": "code",
   "execution_count": null,
   "id": "democratic-batch",
   "metadata": {},
   "outputs": [],
   "source": []
  },
  {
   "cell_type": "code",
   "execution_count": null,
   "id": "freelance-pennsylvania",
   "metadata": {},
   "outputs": [],
   "source": []
  }
 ],
 "metadata": {
  "kernelspec": {
   "display_name": "Python 3",
   "language": "python",
   "name": "python3"
  },
  "language_info": {
   "codemirror_mode": {
    "name": "ipython",
    "version": 3
   },
   "file_extension": ".py",
   "mimetype": "text/x-python",
   "name": "python",
   "nbconvert_exporter": "python",
   "pygments_lexer": "ipython3",
   "version": "3.9.2"
  }
 },
 "nbformat": 4,
 "nbformat_minor": 5
}
